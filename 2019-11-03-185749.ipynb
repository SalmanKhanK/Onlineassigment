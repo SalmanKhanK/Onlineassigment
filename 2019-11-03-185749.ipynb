{
 "cells": [
  {
   "cell_type": "raw",
   "metadata": {
    "collapsed": false
   },
   "source": [
    "Write a Python program to print the following string in a specific format"
   ]
  },
  {
   "cell_type": "code",
   "execution_count": 5,
   "metadata": {
    "collapsed": false
   },
   "outputs": [
    {
     "name": "stdout",
     "output_type": "stream",
     "text": [
      "Twinkle, twinkle, little star,\n",
      "\tHow I wonder what you are!\n",
      "\t\tUp above the world so high,\n",
      "\t\tLike a diamond in the sky.\n",
      "Twinkle, twinkle, little star,\n",
      "\tHow I wonder what you are\n"
     ]
    }
   ],
   "source": [
    "print(\"Twinkle, twinkle, little star,\\n\\tHow I wonder what you are!\\n\\t\\tUp above the world so high,\\n\\t\\tLike a diamond in the sky.\\nTwinkle, twinkle, little star,\\n\\tHow I wonder what you are\")"
   ]
  },
  {
   "cell_type": "raw",
   "metadata": {
    "collapsed": false
   },
   "source": [
    "Write a Python program to get the Python version you are using"
   ]
  },
  {
   "cell_type": "code",
   "execution_count": 6,
   "metadata": {
    "collapsed": false
   },
   "outputs": [
    {
     "name": "stdout",
     "output_type": "stream",
     "text": [
      "3.6.8 (default, Oct  7 2019, 12:59:55) \n",
      "[GCC 8.3.0]\n"
     ]
    }
   ],
   "source": [
    "import sys\n",
    "print(sys.version)"
   ]
  },
  {
   "cell_type": "raw",
   "metadata": {
    "collapsed": false
   },
   "source": [
    "3. Write a Python program to display the current date and time."
   ]
  },
  {
   "cell_type": "code",
   "execution_count": 21,
   "metadata": {
    "collapsed": false
   },
   "outputs": [
    {
     "name": "stdout",
     "output_type": "stream",
     "text": [
      "2019-11-03 14:17:52.873013\n"
     ]
    }
   ],
   "source": [
    "from datetime import datetime\n",
    "now=datetime.now()\n",
    "print(now)"
   ]
  },
  {
   "cell_type": "raw",
   "metadata": {
    "collapsed": false
   },
   "source": [
    "Write a Python program which accepts the radius of a circle from the user\n",
    "and compute the area."
   ]
  },
  {
   "cell_type": "code",
   "execution_count": 27,
   "metadata": {
    "cocalc": {
     "outputs": {
      "0": {
       "name": "input",
       "opts": {
        "password": false,
        "prompt": ""
       },
       "output_type": "stream",
       "value": "3.4"
      }
     }
    },
    "collapsed": false
   },
   "outputs": [
    {
     "name": "stdout",
     "output_type": "stream",
     "text": " 3.4"
    },
    {
     "name": "stdout",
     "output_type": "stream",
     "text": [
      "Area is= 36.316811075498\n"
     ]
    }
   ],
   "source": [
    "import math as m\n",
    "radius=float(input())\n",
    "Area=m.pi*(m.pow(radius,2))\n",
    "print(\"Area is=\",Area)"
   ]
  },
  {
   "cell_type": "raw",
   "metadata": {
    "collapsed": false
   },
   "source": [
    "5. Write a Python program which accepts the user's first and last name and\n",
    "print them in reverse order with a space between them."
   ]
  },
  {
   "cell_type": "code",
   "execution_count": 29,
   "metadata": {
    "cocalc": {
     "outputs": {
      "0": {
       "name": "input",
       "opts": {
        "password": false,
        "prompt": ""
       },
       "output_type": "stream",
       "value": "Sheraz"
      },
      "1": {
       "name": "input",
       "opts": {
        "password": false,
        "prompt": ""
       },
       "output_type": "stream",
       "value": "khan"
      }
     }
    },
    "collapsed": false
   },
   "outputs": [
    {
     "name": "stdout",
     "output_type": "stream",
     "text": " Sheraz"
    },
    {
     "name": "stdout",
     "output_type": "stream",
     "text": " khan"
    },
    {
     "name": "stdout",
     "output_type": "stream",
     "text": [
      "khan  Sheraz\n"
     ]
    }
   ],
   "source": [
    "fname=input()\n",
    "lname=input()\n",
    "print(lname+\"  \"+fname)"
   ]
  },
  {
   "cell_type": "raw",
   "metadata": {
    "collapsed": false
   },
   "source": [
    "6. Write a python program which takes two inputs from user and print them\n",
    "addition"
   ]
  },
  {
   "cell_type": "code",
   "execution_count": 36,
   "metadata": {
    "cocalc": {
     "outputs": {
      "0": {
       "name": "input",
       "opts": {
        "password": false,
        "prompt": ""
       },
       "output_type": "stream",
       "value": "3.8"
      },
      "1": {
       "name": "input",
       "opts": {
        "password": false,
        "prompt": ""
       },
       "output_type": "stream",
       "value": "2"
      }
     }
    },
    "collapsed": false
   },
   "outputs": [
    {
     "name": "stdout",
     "output_type": "stream",
     "text": " 3.8"
    },
    {
     "name": "stdout",
     "output_type": "stream",
     "text": " 2"
    },
    {
     "name": "stdout",
     "output_type": "stream",
     "text": [
      "5.8\n"
     ]
    }
   ],
   "source": [
    "a=float(input())\n",
    "b=float(input())\n",
    "print(a+b)\n"
   ]
  },
  {
   "cell_type": "raw",
   "metadata": {
    "collapsed": false
   },
   "source": [
    "1. Write a program which takes 5 inputs from user for different subject’s\n",
    "marks, total it and generate mark sheet using grades ?"
   ]
  },
  {
   "cell_type": "code",
   "execution_count": 6,
   "metadata": {
    "cocalc": {
     "outputs": {
      "0": {
       "name": "input",
       "opts": {
        "password": false,
        "prompt": "Enter math marks"
       },
       "output_type": "stream",
       "value": "34"
      },
      "1": {
       "name": "input",
       "opts": {
        "password": false,
        "prompt": "Enter chemistry marks"
       },
       "output_type": "stream",
       "value": "45"
      },
      "2": {
       "name": "input",
       "opts": {
        "password": false,
        "prompt": "Enter physics marks"
       },
       "output_type": "stream",
       "value": "65"
      },
      "3": {
       "name": "input",
       "opts": {
        "password": false,
        "prompt": "Enter urdu marks"
       },
       "output_type": "stream",
       "value": "77"
      },
      "4": {
       "name": "input",
       "opts": {
        "password": false,
        "prompt": "Enter islamiat marks"
       },
       "output_type": "stream",
       "value": "88"
      }
     }
    },
    "collapsed": false
   },
   "outputs": [
    {
     "name": "stdout",
     "output_type": "stream",
     "text": "Enter math marks 34"
    },
    {
     "name": "stdout",
     "output_type": "stream",
     "text": "Enter chemistry marks 45"
    },
    {
     "name": "stdout",
     "output_type": "stream",
     "text": "Enter physics marks 65"
    },
    {
     "name": "stdout",
     "output_type": "stream",
     "text": "Enter urdu marks 77"
    },
    {
     "name": "stdout",
     "output_type": "stream",
     "text": "Enter islamiat marks 88"
    },
    {
     "name": "stdout",
     "output_type": "stream",
     "text": [
      "Total marks= 309\n",
      "61.8 %\n",
      "Grade:B\n"
     ]
    }
   ],
   "source": [
    "math=int(input(\"Enter math marks\"))\n",
    "chemistry=int(input(\"Enter chemistry marks\"))\n",
    "physics=int(input(\"Enter physics marks\"))\n",
    "urdu=int(input(\"Enter urdu marks\"))\n",
    "islamiat=int(input(\"Enter islamiat marks\"))\n",
    "total=math+chemistry+urdu+islamiat+physics\n",
    "print(\"Total marks=\",total)\n",
    "per=total/5\n",
    "print(per,\"%\")\n",
    "if per>=80:\n",
    "    print(\"Grade:A+\")\n",
    "if per>=70 and per<80:\n",
    "    print(\"Grade:A\")\n",
    "if per>=60 and per<70:\n",
    "    print(\"Grade:B\")\n",
    "if per>=50 and per<60:\n",
    "    print(\"Grade:C\")\n",
    "if per>=40 and per<50:\n",
    "    print(\"Grade:D\")\n",
    "if per<40:\n",
    "    print(\"Grade:F\")"
   ]
  },
  {
   "cell_type": "raw",
   "metadata": {
    "collapsed": false
   },
   "source": [
    "2. Write a program which take input from user and identify that the given\n",
    "number is even or odd?"
   ]
  },
  {
   "cell_type": "code",
   "execution_count": 5,
   "metadata": {
    "cocalc": {
     "outputs": {
      "0": {
       "name": "input",
       "opts": {
        "password": false,
        "prompt": "Enter Number="
       },
       "output_type": "stream",
       "value": "26"
      }
     }
    },
    "collapsed": false
   },
   "outputs": [
    {
     "name": "stdout",
     "output_type": "stream",
     "text": "Enter Number= 26"
    },
    {
     "name": "stdout",
     "output_type": "stream",
     "text": [
      "Even Number\n"
     ]
    }
   ],
   "source": [
    "inp=int(input(\"Enter Number=\"))\n",
    "if inp%2==0:\n",
    "    print(\"Even Number\")\n",
    "else:\n",
    "    print(\"Odd number\")"
   ]
  },
  {
   "cell_type": "raw",
   "metadata": {
    "collapsed": false
   },
   "source": [
    "3. Write a program which print the length of the list?"
   ]
  },
  {
   "cell_type": "code",
   "execution_count": 8,
   "metadata": {
    "collapsed": false
   },
   "outputs": [
    {
     "name": "stdout",
     "output_type": "stream",
     "text": [
      "Length of list is= 4\n"
     ]
    }
   ],
   "source": [
    "li=['Apple','Mango','Banana','Orange']\n",
    "print(\"Length of list is=\",len(li))"
   ]
  },
  {
   "cell_type": "raw",
   "metadata": {
    "collapsed": false
   },
   "source": [
    "4. Write a Python program to sum all the numeric items in a list?"
   ]
  },
  {
   "cell_type": "code",
   "execution_count": 9,
   "metadata": {
    "collapsed": false
   },
   "outputs": [
    {
     "name": "stdout",
     "output_type": "stream",
     "text": [
      "Sum= 41\n"
     ]
    }
   ],
   "source": [
    "li=[3,5,6,3,7,9,8]\n",
    "sum=0\n",
    "for i in li:\n",
    "    sum=sum+i\n",
    "print(\"Sum=\",sum)"
   ]
  },
  {
   "cell_type": "raw",
   "metadata": {
    "collapsed": false
   },
   "source": [
    "5. Write a Python program to get the largest number from a numeric list."
   ]
  },
  {
   "cell_type": "code",
   "execution_count": 12,
   "metadata": {
    "collapsed": false
   },
   "outputs": [
    {
     "name": "stdout",
     "output_type": "stream",
     "text": [
      "11\n"
     ]
    }
   ],
   "source": [
    "li=[5,7,3,8,6,9,11]\n",
    "f=li[0]\n",
    "for i in li:\n",
    "    if i+1>f:\n",
    "        f=i\n",
    "print(f)"
   ]
  },
  {
   "cell_type": "raw",
   "metadata": {
    "collapsed": false
   },
   "source": [
    "6. Take a list, say for example this one:\n",
    "a = [1, 1, 2, 3, 5, 8, 13, 21, 34, 55, 89]\n",
    "and write a program that prints out all the elements of the list that are\n",
    "less than 5."
   ]
  },
  {
   "cell_type": "code",
   "execution_count": 0,
   "metadata": {
    "collapsed": false
   },
   "outputs": [
   ],
   "source": [
    "a = [1, 1, 2, 3, 5, 8, 13, 21, 34, 55, 89]\n",
    "obj=5\n",
    "for i in a:\n",
    "    if i<obj:\n",
    "        print(i)"
   ]
  }
 ],
 "metadata": {
  "kernelspec": {
   "display_name": "Python 3 (system-wide)",
   "language": "python",
   "metadata": {
    "cocalc": {
     "description": "Python 3 programming language",
     "priority": 100,
     "url": "https://www.python.org/"
    }
   },
   "name": "python3"
  },
  "language_info": {
   "codemirror_mode": {
    "name": "ipython",
    "version": 3
   },
   "file_extension": ".py",
   "mimetype": "text/x-python",
   "name": "python",
   "nbconvert_exporter": "python",
   "pygments_lexer": "ipython3",
   "version": "3.6.8"
  }
 },
 "nbformat": 4,
 "nbformat_minor": 0
}