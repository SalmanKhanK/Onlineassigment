{
 "cells": [
  {
   "cell_type": "code",
   "execution_count": 7,
   "metadata": {
    "cocalc": {
     "outputs": {
      "0": {
       "name": "input",
       "opts": {
        "password": false,
        "prompt": ""
       },
       "output_type": "stream",
       "value": "3"
      },
      "1": {
       "name": "input",
       "opts": {
        "password": false,
        "prompt": ""
       },
       "output_type": "stream",
       "value": "3"
      },
      "2": {
       "name": "input",
       "opts": {
        "password": false,
        "prompt": "Enter Operator"
       },
       "output_type": "stream",
       "value": "^"
      }
     }
    },
    "collapsed": false
   },
   "outputs": [
    {
     "name": "stdout",
     "output_type": "stream",
     "text": " 3"
    },
    {
     "name": "stdout",
     "output_type": "stream",
     "text": " 3"
    },
    {
     "name": "stdout",
     "output_type": "stream",
     "text": "Enter Operator ^"
    },
    {
     "name": "stdout",
     "output_type": "stream",
     "text": [
      "27.0\n"
     ]
    }
   ],
   "source": [
    "a=float(input())\n",
    "b=float(input())\n",
    "op=input(\"Enter Operator\")\n",
    "if op==\"+\":\n",
    "    s=a+b\n",
    "    print(s)\n",
    "if op==\"-\":\n",
    "    s=a-b\n",
    "    print(s)\n",
    "if op=='*':\n",
    "    s=a*b\n",
    "    print(s)\n",
    "if op=='/':\n",
    "    s=a/b\n",
    "    print(s)\n",
    "if op=='^':\n",
    "    s=a**b\n",
    "    print(s)\n",
    "    \n"
   ]
  },
  {
   "cell_type": "code",
   "execution_count": 11,
   "metadata": {
    "cocalc": {
     "outputs": {
      "0": {
       "name": "input",
       "opts": {
        "password": false,
        "prompt": ""
       },
       "output_type": "stream",
       "value": "4"
      }
     }
    },
    "collapsed": false
   },
   "outputs": [
    {
     "name": "stdout",
     "output_type": "stream",
     "text": " 4"
    },
    {
     "name": "stdout",
     "output_type": "stream",
     "text": [
      "Exist value= 4\n"
     ]
    }
   ],
   "source": [
    "li=[2,4,5,6,7,8,2]\n",
    "inp=int(input())\n",
    "for i in li:\n",
    "    if inp==i:\n",
    "        print(\"Exist value=\",inp)\n",
    "        break\n",
    "else:\n",
    "    print(\"value does not exist\")"
   ]
  },
  {
   "cell_type": "code",
   "execution_count": 1,
   "metadata": {
    "collapsed": false
   },
   "outputs": [
    {
     "name": "stdout",
     "output_type": "stream",
     "text": [
      "Current Dict is:  {'name': 'salman', 'religion': 'islam'}\n",
      "Updated Dict is:  {'name': 'salman', 'religion': 'islam', 'status': 'single'}\n"
     ]
    }
   ],
   "source": [
    "#Write a Python script to add a key to a dictionary\n",
    "dict = {'name':'salman', 'religion':'islam'}\n",
    "print(\"Current Dict is: \", dict)\n",
    "# using the subscript notation \n",
    "# Dictionary_Name[New_Key_Name] = New_Key_Value\n",
    "dict['status'] = 'single'\n",
    "print(\"Updated Dict is: \", dict) \n"
   ]
  },
  {
   "cell_type": "code",
   "execution_count": 3,
   "metadata": {
    "collapsed": false
   },
   "outputs": [
    {
     "name": "stdout",
     "output_type": "stream",
     "text": [
      "Sum : 600\n"
     ]
    }
   ],
   "source": [
    "#Write a Python program to sum all the numeric items in a dictionary\n",
    "sum = 0\n",
    "myDict = {'a': 100, 'b':200, 'c':300} \n",
    "for i in myDict: \n",
    "    sum = sum + myDict[i]\n",
    "print(\"Sum :\",sum) "
   ]
  },
  {
   "cell_type": "code",
   "execution_count": 4,
   "metadata": {
    "collapsed": false
   },
   "outputs": [
    {
     "name": "stdout",
     "output_type": "stream",
     "text": [
      "[2, 3, 4]\n"
     ]
    }
   ],
   "source": [
    "#Write a program to identify duplicate values from list\n",
    "list=[2,3,4,5,2,3,4]\n",
    "rep=[]\n",
    "for i in range(len(list)):\n",
    "    j=i+1\n",
    "    for k in range(j,len(list)):\n",
    "        if list[i]==list[k]:\n",
    "            rep.append(list[i])\n",
    "print(rep)"
   ]
  },
  {
   "cell_type": "code",
   "execution_count": 6,
   "metadata": {
    "cocalc": {
     "outputs": {
      "0": {
       "name": "input",
       "opts": {
        "password": false,
        "prompt": ""
       },
       "output_type": "stream",
       "value": "7"
      }
     }
    },
    "collapsed": false
   },
   "outputs": [
    {
     "name": "stdout",
     "output_type": "stream",
     "text": " 7"
    },
    {
     "name": "stdout",
     "output_type": "stream",
     "text": [
      "Key is not present in the dictionary\n"
     ]
    }
   ],
   "source": [
    "#Write a Python script to check if a given key already exists in a dictionary\n",
    "d = {1: 10, 2: 20, 3: 30, 4: 40, 5: 50, 6: 60}\n",
    "x=int(input())\n",
    "if x in d:\n",
    "      print('Key is present in the dictionary')\n",
    "else:\n",
    "      print('Key is not present in the dictionary')"
   ]
  },
  {
   "cell_type": "raw",
   "metadata": {
    "collapsed": false
   },
   "source": [
    "Question1:\n",
    "Use a dictionary to store information about a person you know. Store their first name, last name, age,\n",
    "and the city in which they live. You should have keys such as first_name, last_name, age, and city. Print\n",
    "each piece of information stored in your dictionary. Add a new key value pair about qualification then\n",
    "update the qualification value to high academic level then delete it."
   ]
  },
  {
   "cell_type": "code",
   "execution_count": 9,
   "metadata": {
    "collapsed": false
   },
   "outputs": [
    {
     "name": "stdout",
     "output_type": "stream",
     "text": [
      "{'first_name': 'Salman', 'last_name': 'Khan', 'age': '20', 'city': 'Karachi'}\n",
      "Added= {'first_name': 'Salman', 'last_name': 'Khan', 'age': '20', 'city': 'Karachi', 'Qualification': 'Undergraduate'}\n",
      "Updated= {'first_name': 'Salman', 'last_name': 'Khan', 'age': 21, 'city': 'Karachi', 'Qualification': 'Undergraduate'}\n",
      "Deleted= {'first_name': 'Salman', 'last_name': 'Khan', 'age': 21, 'Qualification': 'Undergraduate'}\n"
     ]
    }
   ],
   "source": [
    "info={\n",
    "    \"first_name\":'Salman',\n",
    "    \"last_name\":'Khan',\n",
    "    \"age\":'20',\n",
    "   \"city\":'Karachi'\n",
    "}\n",
    "print(info)\n",
    "info['Qualification']='Undergraduate'\n",
    "print(\"Added=\",info)\n",
    "info['age']=21\n",
    "print(\"Updated=\",info)\n",
    "del info[\"city\"]\n",
    "print(\"Deleted=\",info)\n"
   ]
  },
  {
   "cell_type": "raw",
   "metadata": {
    "collapsed": false
   },
   "source": [
    "Question2:\n",
    "Make a dictionary called cities. Use the names of three cities as keys in your dictionary. Create a\n",
    "dictionary of information about each city and include the country that the city is in, its approximate\n",
    "population, and one fact about that city. The keys for each city’s dictionary should be something like\n",
    "country, population, and fact. Print the name of each city and all of the information you have stored\n",
    "about it."
   ]
  },
  {
   "cell_type": "code",
   "execution_count": 27,
   "metadata": {
    "collapsed": false
   },
   "outputs": [
   ],
   "source": [
    "cities={\n",
    "    'Karachi' : {'Country':'pakistan','Population':'14.91M','fact':'Six largest city'},\n",
    "    'istanbul' : {'Country':'Turkey','Population':'15.07M','fact':'Istanbul (ancient Byzantium) was founded on Seven Hills like Rome.'},\n",
    "    'Beijing' : {'Country':'China',\"Population\":'1.386B','fact':\"China is officially known as the People's Republic of China.\"}\n",
    "}"
   ]
  },
  {
   "cell_type": "code",
   "execution_count": 29,
   "metadata": {
    "collapsed": false
   },
   "outputs": [
    {
     "name": "stdout",
     "output_type": "stream",
     "text": [
      "pakistan\n",
      "China\n",
      "15.07M\n"
     ]
    }
   ],
   "source": [
    "print(cities['Karachi']['Country'])\n",
    "print(cities['Beijing']['Country'])\n",
    "print(cities[\"istanbul\"][\"Population\"])\n",
    "#print(cities['istanbul']['Country'])"
   ]
  },
  {
   "cell_type": "raw",
   "metadata": {
    "collapsed": false
   },
   "source": [
    "Question3:\n",
    "A movie theater charges different ticket prices depending on a person’s age. If a person is under the age\n",
    "of 3, the ticket is free; if they are between 3 and 12, the ticket is $10; and if they are over age 12, the\n",
    "ticket is $15. Write a loop in which you ask users their age, and then tell them the cost of their movie\n",
    "ticket."
   ]
  },
  {
   "cell_type": "code",
   "execution_count": 1,
   "metadata": {
    "cocalc": {
     "outputs": {
      "0": {
       "name": "input",
       "opts": {
        "password": false,
        "prompt": "How much iteration will loop run="
       },
       "output_type": "stream",
       "value": "2"
      },
      "1": {
       "name": "input",
       "opts": {
        "password": false,
        "prompt": "Enter age="
       },
       "output_type": "stream",
       "value": "34"
      },
      "2": {
       "name": "input",
       "opts": {
        "password": false,
        "prompt": "Enter age="
       },
       "output_type": "stream"
      }
     }
    },
    "collapsed": false
   },
   "outputs": [
    {
     "name": "stdout",
     "output_type": "stream",
     "text": "How much iteration will loop run= 2"
    },
    {
     "name": "stdout",
     "output_type": "stream",
     "text": "Enter age= 34"
    },
    {
     "name": "stdout",
     "output_type": "stream",
     "text": "Enter age= "
    },
    {
     "name": "stdout",
     "output_type": "stream",
     "text": [
      "15$\n"
     ],
     "value": "23"
    },
    {
     "name": "stdout",
     "output_type": "stream",
     "text": [
      "15$\n"
     ]
    }
   ],
   "source": [
    "rangee=int(input(\"How much iteration will loop run=\"))\n",
    "for i in range(0,rangee):\n",
    "    age=int(input(\"Enter age=\"))\n",
    "    if age<3:\n",
    "        print(\"Ticket is free\")\n",
    "    if age==3 and age==12:\n",
    "        print(\"10$\")\n",
    "    if age>12:\n",
    "        print(\"15$\")"
   ]
  },
  {
   "cell_type": "raw",
   "metadata": {
    "collapsed": false
   },
   "source": [
    "Question4:\n",
    "Write a function called favorite_book() that accepts one parameter, title. The function should print a\n",
    "message, such as One of my favorite books is Alice in Wonderland. Call the function, making sure to\n",
    "include a book title as an argument in the function call."
   ]
  },
  {
   "cell_type": "code",
   "execution_count": 3,
   "metadata": {
    "collapsed": false
   },
   "outputs": [
    {
     "name": "stdout",
     "output_type": "stream",
     "text": [
      " One of my favorite books is Alice in Wonderland.\n"
     ]
    }
   ],
   "source": [
    "def favorite_book(title):\n",
    "    print(title)\n",
    "favorite_book(\" One of my favorite books is Alice in Wonderland.\")"
   ]
  },
  {
   "cell_type": "code",
   "execution_count": 2,
   "metadata": {
    "collapsed": false
   },
   "outputs": [
    {
     "name": "stdout",
     "output_type": "stream",
     "text": [
      " One of my favorite books is Alice in Wonderland.\n"
     ]
    }
   ],
   "source": [
   ]
  },
  {
   "cell_type": "raw",
   "metadata": {
    "collapsed": false
   },
   "source": [
    "Question5:\n",
    "Guess the number game\n",
    "Write a program which randomly generate a number between 1 to 30 and ask the user in input field to\n",
    "guess the correct number. Give three chances to user guess the number and also give hint to user if\n",
    "hidden number is greater or smaller than the number he given to input field."
   ]
  },
  {
   "cell_type": "code",
   "execution_count": 8,
   "metadata": {
    "cocalc": {
     "outputs": {
      "0": {
       "name": "input",
       "opts": {
        "password": false,
        "prompt": "Guess the correct number:"
       },
       "output_type": "stream",
       "value": "23"
      },
      "2": {
       "name": "input",
       "opts": {
        "password": false,
        "prompt": "Guess the correct number:"
       },
       "output_type": "stream",
       "value": "24"
      },
      "4": {
       "name": "input",
       "opts": {
        "password": false,
        "prompt": "Guess the correct number:"
       },
       "output_type": "stream",
       "value": "21"
      }
     }
    },
    "collapsed": false
   },
   "outputs": [
    {
     "name": "stdout",
     "output_type": "stream",
     "text": "Guess the correct number: 23"
    },
    {
     "name": "stdout",
     "output_type": "stream",
     "text": [
      "Wrong/n hint:NUmber is greater than 1 and less then 31\n"
     ]
    },
    {
     "name": "stdout",
     "output_type": "stream",
     "text": "Guess the correct number: 24"
    },
    {
     "name": "stdout",
     "output_type": "stream",
     "text": [
      "Wrong/n hint:NUmber is greater than 1 and less then 31\n"
     ]
    },
    {
     "name": "stdout",
     "output_type": "stream",
     "text": "Guess the correct number: 21"
    },
    {
     "name": "stdout",
     "output_type": "stream",
     "text": [
      "Wrong/n hint:NUmber is greater than 1 and less then 31\n"
     ]
    }
   ],
   "source": [
    "import random \n",
    "r=random.randrange(1, 30)\n",
    "for i in range(0,3):\n",
    "    user=int(input(\"Guess the correct number:\"))\n",
    "    if user==r:\n",
    "        print(\"Congrats you guess\")\n",
    "        break\n",
    "    else:\n",
    "        print(\"Wrong/n hint:NUmber is greater than 1 and less then 31\")\n",
    "\n"
   ]
  },
  {
   "cell_type": "code",
   "execution_count": 0,
   "metadata": {
    "collapsed": false
   },
   "outputs": [
   ],
   "source": [
    "\n"
   ]
  }
 ],
 "metadata": {
  "kernelspec": {
   "display_name": "Python 3 (system-wide)",
   "language": "python",
   "metadata": {
    "cocalc": {
     "description": "Python 3 programming language",
     "priority": 100,
     "url": "https://www.python.org/"
    }
   },
   "name": "python3"
  },
  "language_info": {
   "codemirror_mode": {
    "name": "ipython",
    "version": 3
   },
   "file_extension": ".py",
   "mimetype": "text/x-python",
   "name": "python",
   "nbconvert_exporter": "python",
   "pygments_lexer": "ipython3",
   "version": "3.6.9"
  }
 },
 "nbformat": 4,
 "nbformat_minor": 0
}